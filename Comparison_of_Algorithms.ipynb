{
  "nbformat": 4,
  "nbformat_minor": 0,
  "metadata": {
    "colab": {
      "name": "Comparison of Algorithms.ipynb",
      "provenance": [],
      "mount_file_id": "1-N7UgZiJtyJ0i-zHPfg9sFIUEPOnt9qE",
      "authorship_tag": "ABX9TyM/zlQxmY/8ReyWmGCBAwRg",
      "include_colab_link": true
    },
    "kernelspec": {
      "name": "python3",
      "display_name": "Python 3"
    },
    "language_info": {
      "name": "python"
    }
  },
  "cells": [
    {
      "cell_type": "markdown",
      "metadata": {
        "id": "view-in-github",
        "colab_type": "text"
      },
      "source": [
        "<a href=\"https://colab.research.google.com/github/deesha74/Machine-Learning/blob/main/Comparison_of_Algorithms.ipynb\" target=\"_parent\"><img src=\"https://colab.research.google.com/assets/colab-badge.svg\" alt=\"Open In Colab\"/></a>"
      ]
    },
    {
      "cell_type": "markdown",
      "metadata": {
        "id": "Q1wCOtkJuCHk"
      },
      "source": [
        "How to evaluate multiple different machine learning algorithms on a dataset in Python with scikit-learn?"
      ]
    },
    {
      "cell_type": "code",
      "metadata": {
        "colab": {
          "base_uri": "https://localhost:8080/",
          "height": 195
        },
        "id": "gitY-8KduD0O",
        "outputId": "27bbef25-f920-4911-8a39-d87e05fc2155"
      },
      "source": [
        "import numpy as np\n",
        "import pandas as pd\n",
        "data = pd.read_csv('/content/drive/MyDrive/csv_result-PhishingData.csv')\n",
        "data.head()"
      ],
      "execution_count": null,
      "outputs": [
        {
          "output_type": "execute_result",
          "data": {
            "text/html": [
              "<div>\n",
              "<style scoped>\n",
              "    .dataframe tbody tr th:only-of-type {\n",
              "        vertical-align: middle;\n",
              "    }\n",
              "\n",
              "    .dataframe tbody tr th {\n",
              "        vertical-align: top;\n",
              "    }\n",
              "\n",
              "    .dataframe thead th {\n",
              "        text-align: right;\n",
              "    }\n",
              "</style>\n",
              "<table border=\"1\" class=\"dataframe\">\n",
              "  <thead>\n",
              "    <tr style=\"text-align: right;\">\n",
              "      <th></th>\n",
              "      <th>id</th>\n",
              "      <th>SFH</th>\n",
              "      <th>popUpWidnow</th>\n",
              "      <th>SSLfinal_State</th>\n",
              "      <th>Request_URL</th>\n",
              "      <th>URL_of_Anchor</th>\n",
              "      <th>web_traffic</th>\n",
              "      <th>URL_Length</th>\n",
              "      <th>age_of_domain</th>\n",
              "      <th>having_IP_Address</th>\n",
              "      <th>Result</th>\n",
              "    </tr>\n",
              "  </thead>\n",
              "  <tbody>\n",
              "    <tr>\n",
              "      <th>0</th>\n",
              "      <td>1</td>\n",
              "      <td>1</td>\n",
              "      <td>-1</td>\n",
              "      <td>1</td>\n",
              "      <td>-1</td>\n",
              "      <td>-1</td>\n",
              "      <td>1</td>\n",
              "      <td>1</td>\n",
              "      <td>1</td>\n",
              "      <td>0</td>\n",
              "      <td>0</td>\n",
              "    </tr>\n",
              "    <tr>\n",
              "      <th>1</th>\n",
              "      <td>2</td>\n",
              "      <td>-1</td>\n",
              "      <td>-1</td>\n",
              "      <td>-1</td>\n",
              "      <td>-1</td>\n",
              "      <td>-1</td>\n",
              "      <td>0</td>\n",
              "      <td>1</td>\n",
              "      <td>1</td>\n",
              "      <td>1</td>\n",
              "      <td>1</td>\n",
              "    </tr>\n",
              "    <tr>\n",
              "      <th>2</th>\n",
              "      <td>3</td>\n",
              "      <td>1</td>\n",
              "      <td>-1</td>\n",
              "      <td>0</td>\n",
              "      <td>0</td>\n",
              "      <td>-1</td>\n",
              "      <td>0</td>\n",
              "      <td>-1</td>\n",
              "      <td>1</td>\n",
              "      <td>0</td>\n",
              "      <td>1</td>\n",
              "    </tr>\n",
              "    <tr>\n",
              "      <th>3</th>\n",
              "      <td>4</td>\n",
              "      <td>1</td>\n",
              "      <td>0</td>\n",
              "      <td>1</td>\n",
              "      <td>-1</td>\n",
              "      <td>-1</td>\n",
              "      <td>0</td>\n",
              "      <td>1</td>\n",
              "      <td>1</td>\n",
              "      <td>0</td>\n",
              "      <td>0</td>\n",
              "    </tr>\n",
              "    <tr>\n",
              "      <th>4</th>\n",
              "      <td>5</td>\n",
              "      <td>-1</td>\n",
              "      <td>-1</td>\n",
              "      <td>1</td>\n",
              "      <td>-1</td>\n",
              "      <td>0</td>\n",
              "      <td>0</td>\n",
              "      <td>-1</td>\n",
              "      <td>1</td>\n",
              "      <td>0</td>\n",
              "      <td>1</td>\n",
              "    </tr>\n",
              "  </tbody>\n",
              "</table>\n",
              "</div>"
            ],
            "text/plain": [
              "   id  SFH  popUpWidnow  ...  age_of_domain  having_IP_Address  Result\n",
              "0   1    1           -1  ...              1                  0       0\n",
              "1   2   -1           -1  ...              1                  1       1\n",
              "2   3    1           -1  ...              1                  0       1\n",
              "3   4    1            0  ...              1                  0       0\n",
              "4   5   -1           -1  ...              1                  0       1\n",
              "\n",
              "[5 rows x 11 columns]"
            ]
          },
          "metadata": {
            "tags": []
          },
          "execution_count": 84
        }
      ]
    },
    {
      "cell_type": "code",
      "metadata": {
        "colab": {
          "base_uri": "https://localhost:8080/",
          "height": 195
        },
        "id": "MfAJ9tcKviZn",
        "outputId": "e78da7fc-ff1b-41c7-a65c-ec1e1af58f8a"
      },
      "source": [
        "data.head()"
      ],
      "execution_count": null,
      "outputs": [
        {
          "output_type": "execute_result",
          "data": {
            "text/html": [
              "<div>\n",
              "<style scoped>\n",
              "    .dataframe tbody tr th:only-of-type {\n",
              "        vertical-align: middle;\n",
              "    }\n",
              "\n",
              "    .dataframe tbody tr th {\n",
              "        vertical-align: top;\n",
              "    }\n",
              "\n",
              "    .dataframe thead th {\n",
              "        text-align: right;\n",
              "    }\n",
              "</style>\n",
              "<table border=\"1\" class=\"dataframe\">\n",
              "  <thead>\n",
              "    <tr style=\"text-align: right;\">\n",
              "      <th></th>\n",
              "      <th>id</th>\n",
              "      <th>SFH</th>\n",
              "      <th>popUpWidnow</th>\n",
              "      <th>SSLfinal_State</th>\n",
              "      <th>Request_URL</th>\n",
              "      <th>URL_of_Anchor</th>\n",
              "      <th>web_traffic</th>\n",
              "      <th>URL_Length</th>\n",
              "      <th>age_of_domain</th>\n",
              "      <th>having_IP_Address</th>\n",
              "      <th>Result</th>\n",
              "    </tr>\n",
              "  </thead>\n",
              "  <tbody>\n",
              "    <tr>\n",
              "      <th>0</th>\n",
              "      <td>1</td>\n",
              "      <td>1</td>\n",
              "      <td>-1</td>\n",
              "      <td>1</td>\n",
              "      <td>-1</td>\n",
              "      <td>-1</td>\n",
              "      <td>1</td>\n",
              "      <td>1</td>\n",
              "      <td>1</td>\n",
              "      <td>0</td>\n",
              "      <td>0</td>\n",
              "    </tr>\n",
              "    <tr>\n",
              "      <th>1</th>\n",
              "      <td>2</td>\n",
              "      <td>-1</td>\n",
              "      <td>-1</td>\n",
              "      <td>-1</td>\n",
              "      <td>-1</td>\n",
              "      <td>-1</td>\n",
              "      <td>0</td>\n",
              "      <td>1</td>\n",
              "      <td>1</td>\n",
              "      <td>1</td>\n",
              "      <td>1</td>\n",
              "    </tr>\n",
              "    <tr>\n",
              "      <th>2</th>\n",
              "      <td>3</td>\n",
              "      <td>1</td>\n",
              "      <td>-1</td>\n",
              "      <td>0</td>\n",
              "      <td>0</td>\n",
              "      <td>-1</td>\n",
              "      <td>0</td>\n",
              "      <td>-1</td>\n",
              "      <td>1</td>\n",
              "      <td>0</td>\n",
              "      <td>1</td>\n",
              "    </tr>\n",
              "    <tr>\n",
              "      <th>3</th>\n",
              "      <td>4</td>\n",
              "      <td>1</td>\n",
              "      <td>0</td>\n",
              "      <td>1</td>\n",
              "      <td>-1</td>\n",
              "      <td>-1</td>\n",
              "      <td>0</td>\n",
              "      <td>1</td>\n",
              "      <td>1</td>\n",
              "      <td>0</td>\n",
              "      <td>0</td>\n",
              "    </tr>\n",
              "    <tr>\n",
              "      <th>4</th>\n",
              "      <td>5</td>\n",
              "      <td>-1</td>\n",
              "      <td>-1</td>\n",
              "      <td>1</td>\n",
              "      <td>-1</td>\n",
              "      <td>0</td>\n",
              "      <td>0</td>\n",
              "      <td>-1</td>\n",
              "      <td>1</td>\n",
              "      <td>0</td>\n",
              "      <td>1</td>\n",
              "    </tr>\n",
              "  </tbody>\n",
              "</table>\n",
              "</div>"
            ],
            "text/plain": [
              "   id  SFH  popUpWidnow  ...  age_of_domain  having_IP_Address  Result\n",
              "0   1    1           -1  ...              1                  0       0\n",
              "1   2   -1           -1  ...              1                  1       1\n",
              "2   3    1           -1  ...              1                  0       1\n",
              "3   4    1            0  ...              1                  0       0\n",
              "4   5   -1           -1  ...              1                  0       1\n",
              "\n",
              "[5 rows x 11 columns]"
            ]
          },
          "metadata": {
            "tags": []
          },
          "execution_count": 86
        }
      ]
    },
    {
      "cell_type": "code",
      "metadata": {
        "id": "JZGV5dtUvnCV"
      },
      "source": [
        "#we dont need id\n",
        "X = data.iloc[:,1:-1]\n",
        "X = X.values\n",
        "Y = data.iloc[:,-1].values"
      ],
      "execution_count": null,
      "outputs": []
    },
    {
      "cell_type": "code",
      "metadata": {
        "colab": {
          "base_uri": "https://localhost:8080/"
        },
        "id": "Vfnyf7JmwDMZ",
        "outputId": "be8f7d7b-0b72-4c76-d203-b4d17ab950eb"
      },
      "source": [
        "print(X)"
      ],
      "execution_count": null,
      "outputs": [
        {
          "output_type": "stream",
          "text": [
            "[[ 1 -1  1 ...  1  1  0]\n",
            " [-1 -1 -1 ...  1  1  1]\n",
            " [ 1 -1  0 ... -1  1  0]\n",
            " ...\n",
            " [-1  0 -1 ... -1 -1  0]\n",
            " [ 0  0  1 ... -1  1  0]\n",
            " [ 1  0  1 ... -1 -1  0]]\n"
          ],
          "name": "stdout"
        }
      ]
    },
    {
      "cell_type": "code",
      "metadata": {
        "colab": {
          "base_uri": "https://localhost:8080/"
        },
        "id": "V8_hgnqDwS88",
        "outputId": "bce4cba0-37d6-446f-ed37-072a51602738"
      },
      "source": [
        "print(Y)"
      ],
      "execution_count": null,
      "outputs": [
        {
          "output_type": "stream",
          "text": [
            "[ 0  1  1 ...  1  1 -1]\n"
          ],
          "name": "stdout"
        }
      ]
    },
    {
      "cell_type": "markdown",
      "metadata": {
        "id": "ma_WDyMyxF39"
      },
      "source": [
        "Normalizing the data"
      ]
    },
    {
      "cell_type": "code",
      "metadata": {
        "id": "0Av7h17RwYM2"
      },
      "source": [
        "from sklearn import preprocessing\n",
        "X1 = preprocessing.normalize(X)"
      ],
      "execution_count": null,
      "outputs": []
    },
    {
      "cell_type": "code",
      "metadata": {
        "colab": {
          "base_uri": "https://localhost:8080/"
        },
        "id": "UfnuLHScw47V",
        "outputId": "2515fd0e-84df-4def-8608-572f3bfb0901"
      },
      "source": [
        "print(X1)"
      ],
      "execution_count": null,
      "outputs": [
        {
          "output_type": "stream",
          "text": [
            "[[ 0.35355339 -0.35355339  0.35355339 ...  0.35355339  0.35355339\n",
            "   0.        ]\n",
            " [-0.35355339 -0.35355339 -0.35355339 ...  0.35355339  0.35355339\n",
            "   0.35355339]\n",
            " [ 0.4472136  -0.4472136   0.         ... -0.4472136   0.4472136\n",
            "   0.        ]\n",
            " ...\n",
            " [-0.40824829  0.         -0.40824829 ... -0.40824829 -0.40824829\n",
            "   0.        ]\n",
            " [ 0.          0.          0.57735027 ... -0.57735027  0.57735027\n",
            "   0.        ]\n",
            " [ 0.40824829  0.          0.40824829 ... -0.40824829 -0.40824829\n",
            "   0.        ]]\n"
          ],
          "name": "stdout"
        }
      ]
    },
    {
      "cell_type": "markdown",
      "metadata": {
        "id": "F3akcMFsyDtL"
      },
      "source": [
        "Splitting of dataset"
      ]
    },
    {
      "cell_type": "code",
      "metadata": {
        "id": "-GtZ1CXy1Znj"
      },
      "source": [
        "from sklearn.model_selection import train_test_split\n",
        "X_train, X_test, Y_train, Y_test = train_test_split(X1, Y, test_size = 0.25, random_state = 42)"
      ],
      "execution_count": null,
      "outputs": []
    },
    {
      "cell_type": "code",
      "metadata": {
        "colab": {
          "base_uri": "https://localhost:8080/"
        },
        "id": "ryDRJqRh0ln3",
        "outputId": "2d435b5f-ccc1-4620-c69a-c6d00286be9e"
      },
      "source": [
        "print(X_train.shape, Y_train.shape, X_test.shape, Y_test.shape)"
      ],
      "execution_count": null,
      "outputs": [
        {
          "output_type": "stream",
          "text": [
            "(1014, 9) (1014,) (339, 9) (339,)\n"
          ],
          "name": "stdout"
        }
      ]
    },
    {
      "cell_type": "markdown",
      "metadata": {
        "id": "x5kh4zx33mt_"
      },
      "source": [
        "# Linear Regression"
      ]
    },
    {
      "cell_type": "markdown",
      "metadata": {
        "id": "Jr2Lt2iDun5s"
      },
      "source": [
        "Linear Regression is a regression model, it takes input and gives a continous output.\n",
        "It is a statistical model. We use Linear regression to to predict the relationship between two variables. We plot the points and draw a straight line, also called regression line which is best fit for the scatter plot so that it can also predict for new features.\n",
        "\n",
        "In linear regression we find the best fit line for the equation, predictive function:\n",
        "y=mx+c\n",
        "\n",
        "h(θ) = θ0 + θ1x1 + θ2x2 + ...\n",
        "\n",
        "where, h(θ) is predicted output, θ is coefficient, and x1,x2,x3... are the features\n",
        "\n",
        "Where we optimize m and c using gradient decent to reduce the Mean Squared Error.\n",
        "\n",
        "In Linear regression we use ***Mean Squared Error*** as the metric loss."
      ]
    },
    {
      "cell_type": "code",
      "metadata": {
        "colab": {
          "base_uri": "https://localhost:8080/"
        },
        "id": "WJl1DC4i3tXy",
        "outputId": "76ca0e42-5d64-437b-b14f-d87e2c4e8792"
      },
      "source": [
        "import matplotlib.pyplot as plt\n",
        "import numpy as np\n",
        "from sklearn import linear_model\n",
        "from sklearn.metrics import mean_squared_error, r2_score\n",
        "regr=linear_model.LinearRegression()\n",
        "regr.fit(X_train, Y_train)\n",
        "y_pred = regr.predict(X_test)\n",
        "mean_squared_error(Y_test, y_pred)\n",
        "r2_score(Y_test, y_pred)"
      ],
      "execution_count": null,
      "outputs": [
        {
          "output_type": "execute_result",
          "data": {
            "text/plain": [
              "0.643897461318726"
            ]
          },
          "metadata": {
            "tags": []
          },
          "execution_count": 95
        }
      ]
    },
    {
      "cell_type": "markdown",
      "metadata": {
        "id": "3wKzbr5T40-N"
      },
      "source": [
        "Mean Squared Error for Linear Regression"
      ]
    },
    {
      "cell_type": "code",
      "metadata": {
        "colab": {
          "base_uri": "https://localhost:8080/"
        },
        "id": "C75mcv5Z4zpF",
        "outputId": "ce412a8e-9d69-4b1b-bac8-cb9efa5bc645"
      },
      "source": [
        "mean_squared_error(Y_test, y_pred)"
      ],
      "execution_count": null,
      "outputs": [
        {
          "output_type": "execute_result",
          "data": {
            "text/plain": [
              "0.32074978449522734"
            ]
          },
          "metadata": {
            "tags": []
          },
          "execution_count": 96
        }
      ]
    },
    {
      "cell_type": "markdown",
      "metadata": {
        "id": "873vK0725DO7"
      },
      "source": [
        "r2_score for linear regression"
      ]
    },
    {
      "cell_type": "code",
      "metadata": {
        "colab": {
          "base_uri": "https://localhost:8080/"
        },
        "id": "R9ejg9nI5HQ4",
        "outputId": "57ac7be8-8591-4ab8-a353-7a77803a2a60"
      },
      "source": [
        "r2_score(Y_test, y_pred)"
      ],
      "execution_count": null,
      "outputs": [
        {
          "output_type": "execute_result",
          "data": {
            "text/plain": [
              "0.643897461318726"
            ]
          },
          "metadata": {
            "tags": []
          },
          "execution_count": 97
        }
      ]
    },
    {
      "cell_type": "markdown",
      "metadata": {
        "id": "64AwiKTC5U5I"
      },
      "source": [
        "# Logistic Regression"
      ]
    },
    {
      "cell_type": "markdown",
      "metadata": {
        "id": "g2_m-AjmyciN"
      },
      "source": [
        "Logistic Regression is a classification model. It is used to assign observations to a discrete set of class, i.e., output lable is discrete in logistic regression. It is a probabilistic model.\n",
        "\n",
        "Logistic regression uses an activation function called the ***Sigmoid Function*** .\n",
        "\n",
        "Output in logistic regression is (0 <= x <= 1).\n",
        "Sigmoid functions limits the cost function between 0 and 1.\n",
        "Predictive function for Logistic Regression is: y^ = c1x1 + c2x2 + c3x3 + b\n",
        "\n",
        "where c1,c2,c3 are coefficient, x1,x2,x3 are features and b is bias.\n",
        "\n",
        "Here we can not use mean squared error as the cost function, so we use ***Cross Entropy*** also called log loss instead.\n",
        "\n",
        "J = -y (log(y^)) , for y = 1\n",
        "\n",
        "J = -(1-y) (log(1-y^)) , for y = 0"
      ]
    },
    {
      "cell_type": "code",
      "metadata": {
        "colab": {
          "base_uri": "https://localhost:8080/"
        },
        "id": "Yr7S0i-u5aFr",
        "outputId": "15d73201-5029-4c17-9fa2-7c8a56b9edb3"
      },
      "source": [
        "from sklearn.linear_model import LogisticRegression\n",
        "reg = linear_model.LogisticRegression()\n",
        "reg.fit(X_train, Y_train)\n",
        "y_pred = reg.predict(X_test)\n",
        "from sklearn import metrics\n",
        "metrics.accuracy_score(Y_test, y_pred)*100"
      ],
      "execution_count": null,
      "outputs": [
        {
          "output_type": "execute_result",
          "data": {
            "text/plain": [
              "83.77581120943954"
            ]
          },
          "metadata": {
            "tags": []
          },
          "execution_count": 98
        }
      ]
    },
    {
      "cell_type": "markdown",
      "metadata": {
        "id": "6rQKH_Pj2J2A"
      },
      "source": [
        "# Naive Bayes"
      ]
    },
    {
      "cell_type": "markdown",
      "metadata": {
        "id": "TtbkThc724yZ"
      },
      "source": [
        "Naive Bayes is a collection of classification algorithm based on ***Bayes Theorem***.  Every pair of features being classified is independent of each other.\n",
        "\n",
        "In Gaussian Naive Bayes classifier, continuous values associated with each feature are assumed to be distributed according to a Gaussian distribution. A Gaussian distribution is also called Normal distribution. When plotted, it gives a bell shaped curve which is symmetric about the mean of the feature values"
      ]
    },
    {
      "cell_type": "code",
      "metadata": {
        "id": "GF3DgnRX1_HG"
      },
      "source": [
        "from sklearn.naive_bayes import GaussianNB\n",
        "gnb = GaussianNB()\n",
        "gnb.fit(X_train, Y_train)\n",
        "y_pred = gnb.predict(X_test)"
      ],
      "execution_count": null,
      "outputs": []
    },
    {
      "cell_type": "code",
      "metadata": {
        "colab": {
          "base_uri": "https://localhost:8080/"
        },
        "id": "8S89KWWI2uPq",
        "outputId": "28718a0b-2f72-4646-c1cc-9b80513321ce"
      },
      "source": [
        "from sklearn import metrics\n",
        "metrics.accuracy_score(Y_test, y_pred)*100"
      ],
      "execution_count": null,
      "outputs": [
        {
          "output_type": "execute_result",
          "data": {
            "text/plain": [
              "82.00589970501476"
            ]
          },
          "metadata": {
            "tags": []
          },
          "execution_count": 101
        }
      ]
    },
    {
      "cell_type": "markdown",
      "metadata": {
        "id": "vjK0u7X16kuK"
      },
      "source": [
        "# KNN"
      ]
    },
    {
      "cell_type": "markdown",
      "metadata": {
        "id": "qsbkDJjp3RAf"
      },
      "source": [
        "K-nearest neighbors is a non-parametric method used for classification and regression. It works on real time computation.  \n",
        "\n",
        "The basic concept of KNN is to explore the neighbors around and assume that the test datapoint to be similar to them and derive the output. To come up with prediction, we look for k neighbors.\n"
      ]
    },
    {
      "cell_type": "code",
      "metadata": {
        "colab": {
          "base_uri": "https://localhost:8080/"
        },
        "id": "2stCtau-3JRU",
        "outputId": "789e3986-f940-4113-e068-da918afc2e86"
      },
      "source": [
        "from sklearn.neighbors import KNeighborsClassifier\n",
        "neigh = KNeighborsClassifier(n_neighbors=3)\n",
        "neigh.fit(X_train, Y_train)\n",
        "y_pred = neigh.predict(X_test)\n",
        "from sklearn import  metrics\n",
        "metrics.accuracy_score(Y_test, y_pred)*100"
      ],
      "execution_count": null,
      "outputs": [
        {
          "output_type": "execute_result",
          "data": {
            "text/plain": [
              "87.90560471976401"
            ]
          },
          "metadata": {
            "tags": []
          },
          "execution_count": 102
        }
      ]
    }
  ]
}